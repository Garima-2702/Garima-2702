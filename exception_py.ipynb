{
  "nbformat": 4,
  "nbformat_minor": 0,
  "metadata": {
    "colab": {
      "provenance": [],
      "authorship_tag": "ABX9TyMgbMH1+jg73nFMhuHfeiaG",
      "include_colab_link": true
    },
    "kernelspec": {
      "name": "python3",
      "display_name": "Python 3"
    },
    "language_info": {
      "name": "python"
    }
  },
  "cells": [
    {
      "cell_type": "markdown",
      "metadata": {
        "id": "view-in-github",
        "colab_type": "text"
      },
      "source": [
        "<a href=\"https://colab.research.google.com/github/Garima-2702/Garima-2702/blob/Basic-of-python/exception_py.ipynb\" target=\"_parent\"><img src=\"https://colab.research.google.com/assets/colab-badge.svg\" alt=\"Open In Colab\"/></a>"
      ]
    },
    {
      "cell_type": "code",
      "execution_count": 1,
      "metadata": {
        "colab": {
          "base_uri": "https://localhost:8080/"
        },
        "id": "fVVaI2w0X-iQ",
        "outputId": "14ff72a6-7928-4642-e9a0-85bf472aa21b"
      },
      "outputs": [
        {
          "output_type": "stream",
          "name": "stdout",
          "text": [
            "Error: cannot add an int and a str\n"
          ]
        }
      ],
      "source": [
        "x = 5\n",
        "y = \"hello\"\n",
        "try:\n",
        "\tz = x + y\n",
        "except TypeError:\n",
        "\tprint(\"Error: cannot add an int and a str\")\n"
      ]
    },
    {
      "cell_type": "code",
      "source": [
        "a=1000\n",
        "try:\n",
        "  b=a/0\n",
        "except ZeroDivisionError:\n",
        "  print(\"number cannot be divide by 0\")"
      ],
      "metadata": {
        "colab": {
          "base_uri": "https://localhost:8080/"
        },
        "id": "WmohfsDaYWwg",
        "outputId": "06bd989a-1a5e-4751-b9f6-2810bbfa1c10"
      },
      "execution_count": 4,
      "outputs": [
        {
          "output_type": "stream",
          "name": "stdout",
          "text": [
            "number cannot be divide by 0\n"
          ]
        }
      ]
    },
    {
      "cell_type": "code",
      "source": [
        "from logging import exception\n",
        "a=10\n",
        "a=int(a)\n",
        "for i in range(a):\n",
        "  try:\n",
        "    if i==5:\n",
        "      raise Exception(\"wrong number\")\n",
        "  except Exception:\n",
        "    print(\"5 created error\")\n",
        "\n",
        ""
      ],
      "metadata": {
        "colab": {
          "base_uri": "https://localhost:8080/"
        },
        "id": "OJwYRgldZQHE",
        "outputId": "1d231561-b208-49b6-9527-62a8a3835da4"
      },
      "execution_count": 11,
      "outputs": [
        {
          "output_type": "stream",
          "name": "stdout",
          "text": [
            "5 created error\n"
          ]
        }
      ]
    },
    {
      "cell_type": "code",
      "source": [
        "from logging import exception\n",
        "a=10\n",
        "a=int(a)\n",
        "for i in range(a):\n",
        "  try:\n",
        "    if i==5:\n",
        "      raise Exception(\"wrong number\")\n",
        "  except Exception as e:\n",
        "    print(e)\n",
        "    print(\"5 created error\")\n",
        ""
      ],
      "metadata": {
        "colab": {
          "base_uri": "https://localhost:8080/"
        },
        "id": "oMdiv6TBdL-w",
        "outputId": "3a2bbd62-4f3e-445e-8606-7617b3a792a6"
      },
      "execution_count": 13,
      "outputs": [
        {
          "output_type": "stream",
          "name": "stdout",
          "text": [
            "wrong number\n",
            "5 created error\n"
          ]
        }
      ]
    },
    {
      "cell_type": "code",
      "source": [
        "from logging import exception\n",
        "a=10\n",
        "a=int(a)\n",
        "for i in range(a):\n",
        "  try:\n",
        "    if i==5:\n",
        "      raise Exception(\"wrong number\")\n",
        "  except Exception as e:\n",
        "    print(\"5 created error\")\n",
        "    print(e)\n",
        "  else:\n",
        "    print(\"coorect execution\")\n",
        "  finally:\n",
        "    print(i)\n",
        ""
      ],
      "metadata": {
        "colab": {
          "base_uri": "https://localhost:8080/"
        },
        "id": "ge8MWow9eRTt",
        "outputId": "ad2a39ee-fc26-4827-cfb7-065cdbf610c5"
      },
      "execution_count": 16,
      "outputs": [
        {
          "output_type": "stream",
          "name": "stdout",
          "text": [
            "coorect execution\n",
            "0\n",
            "coorect execution\n",
            "1\n",
            "coorect execution\n",
            "2\n",
            "coorect execution\n",
            "3\n",
            "coorect execution\n",
            "4\n",
            "5 created error\n",
            "wrong number\n",
            "5\n",
            "coorect execution\n",
            "6\n",
            "coorect execution\n",
            "7\n",
            "coorect execution\n",
            "8\n",
            "coorect execution\n",
            "9\n"
          ]
        }
      ]
    },
    {
      "cell_type": "code",
      "source": [],
      "metadata": {
        "id": "-0ZN2vg5fAk2"
      },
      "execution_count": null,
      "outputs": []
    }
  ]
}