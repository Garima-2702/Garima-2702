{
  "nbformat": 4,
  "nbformat_minor": 0,
  "metadata": {
    "colab": {
      "provenance": [],
      "authorship_tag": "ABX9TyN8w0nlz9UkrG5oRpbOZJFE",
      "include_colab_link": true
    },
    "kernelspec": {
      "name": "python3",
      "display_name": "Python 3"
    },
    "language_info": {
      "name": "python"
    }
  },
  "cells": [
    {
      "cell_type": "markdown",
      "metadata": {
        "id": "view-in-github",
        "colab_type": "text"
      },
      "source": [
        "<a href=\"https://colab.research.google.com/github/Garima-2702/Garima-2702/blob/Basic-of-python/pyramid.ipynb\" target=\"_parent\"><img src=\"https://colab.research.google.com/assets/colab-badge.svg\" alt=\"Open In Colab\"/></a>"
      ]
    },
    {
      "cell_type": "code",
      "execution_count": 4,
      "metadata": {
        "colab": {
          "base_uri": "https://localhost:8080/"
        },
        "id": "rOj1h3GDZIXg",
        "outputId": "c81fa0fb-3638-429a-b8f6-7daab4b11ad8"
      },
      "outputs": [
        {
          "output_type": "stream",
          "name": "stdout",
          "text": [
            "enter no of rows5\n",
            "1\n",
            "\n",
            "12\n",
            "\n",
            "123\n",
            "\n",
            "1234\n",
            "\n",
            "12345\n",
            "\n"
          ]
        }
      ],
      "source": [
        "rows=int(input('enter no of rows'))\n",
        "for x in range(1,rows+1):\n",
        "  for y in range(1,x+1):\n",
        "    print(y,end=\"\")\n",
        "  print()\n",
        ""
      ]
    },
    {
      "cell_type": "code",
      "source": [
        "rows=int(input('enter no of rows'))\n",
        "\n",
        "for x in range(1,rows):\n",
        "  for z in range(1,rows-x):\n",
        "    print(\" \",end=\"\")\n",
        "  for y in range(1,(2*x)):\n",
        "     print(y,end=\"\")\n",
        "  print(\"\\r\")\n",
        ""
      ],
      "metadata": {
        "colab": {
          "base_uri": "https://localhost:8080/"
        },
        "id": "38MXvQnHadVg",
        "outputId": "41160a54-a28e-4311-e3b9-8cca00574245"
      },
      "execution_count": 53,
      "outputs": [
        {
          "output_type": "stream",
          "name": "stdout",
          "text": [
            "enter no of rows5\n",
            "   1\n",
            "  123\n",
            " 12345\n",
            "1234567\n"
          ]
        }
      ]
    },
    {
      "cell_type": "code",
      "source": [],
      "metadata": {
        "id": "8qM2LxQ5seOV"
      },
      "execution_count": null,
      "outputs": []
    }
  ]
}