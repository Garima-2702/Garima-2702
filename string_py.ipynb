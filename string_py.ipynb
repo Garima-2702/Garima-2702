{
  "nbformat": 4,
  "nbformat_minor": 0,
  "metadata": {
    "colab": {
      "provenance": [],
      "authorship_tag": "ABX9TyNm64tCzfAq/K2t1Wo9cGwu",
      "include_colab_link": true
    },
    "kernelspec": {
      "name": "python3",
      "display_name": "Python 3"
    },
    "language_info": {
      "name": "python"
    }
  },
  "cells": [
    {
      "cell_type": "markdown",
      "metadata": {
        "id": "view-in-github",
        "colab_type": "text"
      },
      "source": [
        "<a href=\"https://colab.research.google.com/github/Garima-2702/Garima-2702/blob/Basic-of-python/string_py.ipynb\" target=\"_parent\"><img src=\"https://colab.research.google.com/assets/colab-badge.svg\" alt=\"Open In Colab\"/></a>"
      ]
    },
    {
      "cell_type": "code",
      "execution_count": 7,
      "metadata": {
        "colab": {
          "base_uri": "https://localhost:8080/"
        },
        "id": "HL1oeINjRV6V",
        "outputId": "a5799628-8c8a-4102-bfb2-b5f4418ec40a"
      },
      "outputs": [
        {
          "output_type": "stream",
          "name": "stdout",
          "text": [
            "enter a namegarima\n",
            "a\n",
            "m\n",
            "i\n",
            "r\n",
            "a\n",
            "g\n"
          ]
        }
      ],
      "source": [
        "s=input('enter a name')\n",
        "size=len(s)\n",
        "a=\" \"\n",
        "while size>0:\n",
        "  size-=1\n",
        "  print(s[size])"
      ]
    },
    {
      "cell_type": "code",
      "source": [
        "s=input('enter a name ')\n",
        "size=len(s)\n",
        "a=\" \"\n",
        "\n",
        "while size>0:\n",
        "  size-=1\n",
        "  a+=s[size]\n",
        "print(a)"
      ],
      "metadata": {
        "colab": {
          "base_uri": "https://localhost:8080/"
        },
        "id": "feWzun7TTjw7",
        "outputId": "14c1a2e2-0a7c-4792-cc14-52aa3906e291"
      },
      "execution_count": 48,
      "outputs": [
        {
          "output_type": "stream",
          "name": "stdout",
          "text": [
            "enter a name garima sharma\n",
            " amrahs amirag\n"
          ]
        }
      ]
    },
    {
      "cell_type": "code",
      "source": [
        "\n",
        "\n",
        "\n"
      ],
      "metadata": {
        "id": "s8JSv3h_UkVh"
      },
      "execution_count": 51,
      "outputs": []
    }
  ]
}