{
  "nbformat": 4,
  "nbformat_minor": 0,
  "metadata": {
    "colab": {
      "provenance": [],
      "authorship_tag": "ABX9TyOxK/mWhyJAa5YNn7FweM4r",
      "include_colab_link": true
    },
    "kernelspec": {
      "name": "python3",
      "display_name": "Python 3"
    },
    "language_info": {
      "name": "python"
    }
  },
  "cells": [
    {
      "cell_type": "markdown",
      "metadata": {
        "id": "view-in-github",
        "colab_type": "text"
      },
      "source": [
        "<a href=\"https://colab.research.google.com/github/Garima-2702/Garima-2702/blob/Basic-of-python/list_py.ipynb\" target=\"_parent\"><img src=\"https://colab.research.google.com/assets/colab-badge.svg\" alt=\"Open In Colab\"/></a>"
      ]
    },
    {
      "cell_type": "code",
      "execution_count": 11,
      "metadata": {
        "colab": {
          "base_uri": "https://localhost:8080/"
        },
        "id": "cgAoLt9O_GBh",
        "outputId": "3a96a7e2-6909-4471-ac97-da07805916f4"
      },
      "outputs": [
        {
          "output_type": "stream",
          "name": "stdout",
          "text": [
            "['Garima', 'Sejal', 'Sonu']\n",
            "['Garima', 'Sejal', 'Sonu', 'Neha']\n"
          ]
        }
      ],
      "source": [
        "name = list(('Garima','Sejal','Sonu'))\n",
        "print(name)\n",
        "name.append('Neha')\n",
        "print(name)"
      ]
    },
    {
      "cell_type": "code",
      "source": [
        "name = list(('Garima','Sejal','Sonu'))\n",
        "print(name)\n",
        "name.insert(1,\"Neha\")\n",
        "print(name)"
      ],
      "metadata": {
        "colab": {
          "base_uri": "https://localhost:8080/"
        },
        "id": "3zAKU188FKoP",
        "outputId": "cd290247-b1a5-47e1-edd8-9fa77a45cd0e"
      },
      "execution_count": 10,
      "outputs": [
        {
          "output_type": "stream",
          "name": "stdout",
          "text": [
            "['Garima', 'Sejal', 'Sonu']\n",
            "['Garima', 'Neha', 'Sejal', 'Sonu']\n"
          ]
        }
      ]
    },
    {
      "cell_type": "code",
      "source": [
        "name = list(('Garima','Sejal','Sonu'))\n",
        "print(name)\n",
        "print(name[0:2])"
      ],
      "metadata": {
        "id": "2t7wyL81D7AB",
        "colab": {
          "base_uri": "https://localhost:8080/"
        },
        "outputId": "c6ed658b-6d2e-4cb9-b68d-6015f6977e96"
      },
      "execution_count": 12,
      "outputs": [
        {
          "output_type": "stream",
          "name": "stdout",
          "text": [
            "['Garima', 'Sejal', 'Sonu']\n",
            "['Garima', 'Sejal']\n"
          ]
        }
      ]
    },
    {
      "cell_type": "code",
      "source": [
        "name = list(('Garima','Sejal','Sonu'))\n",
        "print(name)\n",
        "if 'Neha' in name:\n",
        "  print(\"True\")\n",
        "else:\n",
        "  print(\"False\")"
      ],
      "metadata": {
        "colab": {
          "base_uri": "https://localhost:8080/"
        },
        "id": "wg4EIWonGQta",
        "outputId": "66dfabc6-519a-490c-86f9-049bf246ef42"
      },
      "execution_count": 13,
      "outputs": [
        {
          "output_type": "stream",
          "name": "stdout",
          "text": [
            "['Garima', 'Sejal', 'Sonu']\n",
            "False\n"
          ]
        }
      ]
    },
    {
      "cell_type": "code",
      "source": [
        "name = list(('Garima','Sejal','Sonu'))\n",
        "print(name)\n",
        "if 'Neha' not in name:\n",
        "  print(\"True\")\n",
        "else:\n",
        "  print(\"False\")"
      ],
      "metadata": {
        "colab": {
          "base_uri": "https://localhost:8080/"
        },
        "id": "1skJjEDgGkbI",
        "outputId": "3895cf90-4ef1-4353-bf68-83613820f27a"
      },
      "execution_count": 14,
      "outputs": [
        {
          "output_type": "stream",
          "name": "stdout",
          "text": [
            "['Garima', 'Sejal', 'Sonu']\n",
            "True\n"
          ]
        }
      ]
    },
    {
      "cell_type": "code",
      "source": [
        "name = list(('Garima','Sejal','Sonu'))\n",
        "print(name)\n",
        "surname = list(('Sharma','Sharma','Jangid'))\n",
        "print(surname)\n",
        "name.extend(surname)\n",
        "print(name)"
      ],
      "metadata": {
        "colab": {
          "base_uri": "https://localhost:8080/"
        },
        "id": "L2EMw-LlG-s8",
        "outputId": "9872419f-4350-496f-a9a8-57c02557f26f"
      },
      "execution_count": 16,
      "outputs": [
        {
          "output_type": "stream",
          "name": "stdout",
          "text": [
            "['Garima', 'Sejal', 'Sonu']\n",
            "['Sharma', 'Sharma', 'Jangid']\n",
            "['Garima', 'Sejal', 'Sonu', 'Sharma', 'Sharma', 'Jangid']\n"
          ]
        }
      ]
    },
    {
      "cell_type": "code",
      "source": [
        "name = list(('Garima','Sejal','Sonu'))\n",
        "print(name)\n",
        "name.remove('Sejal')\n",
        "print(name)"
      ],
      "metadata": {
        "colab": {
          "base_uri": "https://localhost:8080/"
        },
        "id": "dD2JISv5Hxsp",
        "outputId": "e37c869c-64fb-4951-dc3f-006f4e96a29e"
      },
      "execution_count": 18,
      "outputs": [
        {
          "output_type": "stream",
          "name": "stdout",
          "text": [
            "['Garima', 'Sejal', 'Sonu']\n",
            "['Garima', 'Sonu']\n"
          ]
        }
      ]
    },
    {
      "cell_type": "code",
      "source": [
        "name = list(('Garima','Sejal','Sonu'))\n",
        "print(name)\n",
        "name.pop(1)\n",
        "print(name)"
      ],
      "metadata": {
        "colab": {
          "base_uri": "https://localhost:8080/"
        },
        "id": "TkBpINmtITDn",
        "outputId": "9673624a-17cf-4c1b-b775-037cb61fd274"
      },
      "execution_count": 20,
      "outputs": [
        {
          "output_type": "stream",
          "name": "stdout",
          "text": [
            "['Garima', 'Sejal', 'Sonu']\n",
            "['Garima', 'Sonu']\n"
          ]
        }
      ]
    }
  ]
}