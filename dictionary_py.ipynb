{
  "nbformat": 4,
  "nbformat_minor": 0,
  "metadata": {
    "colab": {
      "provenance": [],
      "authorship_tag": "ABX9TyMmy7/sNBPIoDVKu3ysGcXr",
      "include_colab_link": true
    },
    "kernelspec": {
      "name": "python3",
      "display_name": "Python 3"
    },
    "language_info": {
      "name": "python"
    }
  },
  "cells": [
    {
      "cell_type": "markdown",
      "metadata": {
        "id": "view-in-github",
        "colab_type": "text"
      },
      "source": [
        "<a href=\"https://colab.research.google.com/github/Garima-2702/Garima-2702/blob/Basic-of-python/dictionary_py.ipynb\" target=\"_parent\"><img src=\"https://colab.research.google.com/assets/colab-badge.svg\" alt=\"Open In Colab\"/></a>"
      ]
    },
    {
      "cell_type": "code",
      "execution_count": 2,
      "metadata": {
        "colab": {
          "base_uri": "https://localhost:8080/"
        },
        "id": "84wEuOA0EMGz",
        "outputId": "1cf8e880-3c18-4fb7-d63c-6e7c4d402df3"
      },
      "outputs": [
        {
          "output_type": "stream",
          "name": "stdout",
          "text": [
            "{'name': 'garima', 'age': 20, 'subject': 'python'}\n"
          ]
        }
      ],
      "source": [
        "user={\"name\":\"garima\",\"age\":20,\"subject\":\"python\"}\n",
        "\n",
        "print(user)"
      ]
    },
    {
      "cell_type": "code",
      "source": [
        "user={\"name\":\"garima\",\"age\":20,\"subject\":\"python\",\"name\":\"sejal\"}\n",
        "print(user)"
      ],
      "metadata": {
        "colab": {
          "base_uri": "https://localhost:8080/"
        },
        "id": "Tdvqb-ViFUqF",
        "outputId": "35164b39-35f0-4c13-d544-d63575471f83"
      },
      "execution_count": 3,
      "outputs": [
        {
          "output_type": "stream",
          "name": "stdout",
          "text": [
            "{'name': 'sejal', 'age': 20, 'subject': 'python'}\n"
          ]
        }
      ]
    },
    {
      "cell_type": "code",
      "source": [
        "lst=[\"python\",\"java\"]\n",
        "name=(\"garima\",\"sejal\")\n",
        "user={\"name\":name,\"age\":20,\"subject\":lst}\n",
        "print(user)\n",
        "print(user.keys())\n",
        "\n"
      ],
      "metadata": {
        "colab": {
          "base_uri": "https://localhost:8080/"
        },
        "id": "pG8DIJRQFsgr",
        "outputId": "c93d31c8-078b-4f57-a4ca-8c141c1f443e"
      },
      "execution_count": 10,
      "outputs": [
        {
          "output_type": "stream",
          "name": "stdout",
          "text": [
            "{'name': ('garima', 'sejal'), 'age': 20, 'subject': ['python', 'java']}\n",
            "dict_keys(['name', 'age', 'subject'])\n"
          ]
        }
      ]
    },
    {
      "cell_type": "code",
      "source": [
        "user={\"name\":\"garima\",\"age\":20,\"subject\":\"python\"}\n",
        "for key,value in user.items():\n",
        "  print(key,value)"
      ],
      "metadata": {
        "colab": {
          "base_uri": "https://localhost:8080/"
        },
        "id": "qSLmoJwSGyrb",
        "outputId": "9ccefb9b-21f0-49a3-adaf-0bc2e5b9c49e"
      },
      "execution_count": 13,
      "outputs": [
        {
          "output_type": "stream",
          "name": "stdout",
          "text": [
            "name garima\n",
            "age 20\n",
            "subject python\n"
          ]
        }
      ]
    },
    {
      "cell_type": "code",
      "source": [
        "user = {\"name\": \"garima\", \"age\": 20, \"subject\": \"python\"}\n",
        "user.update({\"surname\": \"sharma\"})\n",
        "print(user)"
      ],
      "metadata": {
        "colab": {
          "base_uri": "https://localhost:8080/"
        },
        "id": "xDP3YpNMIkzQ",
        "outputId": "a82fe76c-bb79-4da4-8e3b-f9aae3b84ae4"
      },
      "execution_count": 15,
      "outputs": [
        {
          "output_type": "stream",
          "name": "stdout",
          "text": [
            "{'name': 'garima', 'age': 20, 'subject': 'python', 'surname': 'sharma'}\n"
          ]
        }
      ]
    },
    {
      "cell_type": "code",
      "source": [
        "user={\"name\":\"garima\",\"age\":20,\"subject\":\"python\"}\n",
        "user.update({\"name\":\"sejal\"})\n",
        "print(user)"
      ],
      "metadata": {
        "colab": {
          "base_uri": "https://localhost:8080/"
        },
        "id": "RM1qu5UnI14s",
        "outputId": "b1ee220d-782f-4dfb-d485-8aee2762cb23"
      },
      "execution_count": 16,
      "outputs": [
        {
          "output_type": "stream",
          "name": "stdout",
          "text": [
            "{'name': 'sejal', 'age': 20, 'subject': 'python'}\n"
          ]
        }
      ]
    },
    {
      "cell_type": "code",
      "source": [
        "user={\"name\":\"garima\",\"age\":20,\"subject\":\"python\"}\n",
        "user[\"surname\"]=\"sharma\"\n",
        "print(user)"
      ],
      "metadata": {
        "colab": {
          "base_uri": "https://localhost:8080/"
        },
        "id": "qZQRvRbnJVQy",
        "outputId": "5706d49a-f680-4d18-9c17-9c4bb2047d68"
      },
      "execution_count": 17,
      "outputs": [
        {
          "output_type": "stream",
          "name": "stdout",
          "text": [
            "{'name': 'garima', 'age': 20, 'subject': 'python', 'surname': 'sharma'}\n"
          ]
        }
      ]
    },
    {
      "cell_type": "code",
      "source": [
        "user={\"name\":\"garima\",\"age\":20,\"subject\":\"python\"}\n",
        "user.pop('name')\n",
        "print(user)"
      ],
      "metadata": {
        "colab": {
          "base_uri": "https://localhost:8080/"
        },
        "id": "SOqqOwBlKU6q",
        "outputId": "4c945899-7924-49cf-9297-399ae92514b1"
      },
      "execution_count": 18,
      "outputs": [
        {
          "output_type": "stream",
          "name": "stdout",
          "text": [
            "{'age': 20, 'subject': 'python'}\n"
          ]
        }
      ]
    },
    {
      "cell_type": "code",
      "source": [
        "user={\"name\":\"garima\",\"age\":20,\"subject\":\"python\"}\n",
        "user.popitem()\n",
        "print(user)"
      ],
      "metadata": {
        "colab": {
          "base_uri": "https://localhost:8080/"
        },
        "id": "iPPi_PUZKfrd",
        "outputId": "32fb5847-3923-401e-9c6f-4c88147de4c8"
      },
      "execution_count": 19,
      "outputs": [
        {
          "output_type": "stream",
          "name": "stdout",
          "text": [
            "{'name': 'garima', 'age': 20}\n"
          ]
        }
      ]
    },
    {
      "cell_type": "code",
      "source": [
        "user={\"name\":\"garima\",\"age\":20,\"subject\":\"python\"}\n",
        "del user['name']\n",
        "print(user)"
      ],
      "metadata": {
        "colab": {
          "base_uri": "https://localhost:8080/"
        },
        "id": "imVPpBy8Kv0R",
        "outputId": "20e3091b-8cff-4474-ab8d-6ece2ebe1859"
      },
      "execution_count": 20,
      "outputs": [
        {
          "output_type": "stream",
          "name": "stdout",
          "text": [
            "{'age': 20, 'subject': 'python'}\n"
          ]
        }
      ]
    },
    {
      "cell_type": "code",
      "source": [
        "user={\"name\":\"garima\",\"age\":20,\"subject\":\"python\"}\n",
        "del user\n",
        "print(user)"
      ],
      "metadata": {
        "colab": {
          "base_uri": "https://localhost:8080/",
          "height": 210
        },
        "id": "lUacTKfXLhfx",
        "outputId": "db0ee4f7-4a05-4771-f194-374f3bfef8bc"
      },
      "execution_count": 21,
      "outputs": [
        {
          "output_type": "error",
          "ename": "NameError",
          "evalue": "name 'user' is not defined",
          "traceback": [
            "\u001b[0;31m---------------------------------------------------------------------------\u001b[0m",
            "\u001b[0;31mNameError\u001b[0m                                 Traceback (most recent call last)",
            "\u001b[0;32m<ipython-input-21-0e467ac75018>\u001b[0m in \u001b[0;36m<cell line: 3>\u001b[0;34m()\u001b[0m\n\u001b[1;32m      1\u001b[0m \u001b[0muser\u001b[0m\u001b[0;34m=\u001b[0m\u001b[0;34m{\u001b[0m\u001b[0;34m\"name\"\u001b[0m\u001b[0;34m:\u001b[0m\u001b[0;34m\"garima\"\u001b[0m\u001b[0;34m,\u001b[0m\u001b[0;34m\"age\"\u001b[0m\u001b[0;34m:\u001b[0m\u001b[0;36m20\u001b[0m\u001b[0;34m,\u001b[0m\u001b[0;34m\"subject\"\u001b[0m\u001b[0;34m:\u001b[0m\u001b[0;34m\"python\"\u001b[0m\u001b[0;34m}\u001b[0m\u001b[0;34m\u001b[0m\u001b[0;34m\u001b[0m\u001b[0m\n\u001b[1;32m      2\u001b[0m \u001b[0;32mdel\u001b[0m \u001b[0muser\u001b[0m\u001b[0;34m\u001b[0m\u001b[0;34m\u001b[0m\u001b[0m\n\u001b[0;32m----> 3\u001b[0;31m \u001b[0mprint\u001b[0m\u001b[0;34m(\u001b[0m\u001b[0muser\u001b[0m\u001b[0;34m)\u001b[0m\u001b[0;34m\u001b[0m\u001b[0;34m\u001b[0m\u001b[0m\n\u001b[0m",
            "\u001b[0;31mNameError\u001b[0m: name 'user' is not defined"
          ]
        }
      ]
    },
    {
      "cell_type": "code",
      "source": [
        "user={}\n",
        "size=len(user)\n",
        "for key,value in user.items():\n",
        "  if len(size)==0:\n",
        "    print(\"empty\")\n",
        "  else:\n",
        "    print(key,value)"
      ],
      "metadata": {
        "id": "m_S9t1UtLwQX"
      },
      "execution_count": 27,
      "outputs": []
    }
  ]
}