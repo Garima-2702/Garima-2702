{
  "nbformat": 4,
  "nbformat_minor": 0,
  "metadata": {
    "colab": {
      "provenance": [],
      "authorship_tag": "ABX9TyNAxqJdi8VwqYxQbV9vmJkA",
      "include_colab_link": true
    },
    "kernelspec": {
      "name": "python3",
      "display_name": "Python 3"
    },
    "language_info": {
      "name": "python"
    }
  },
  "cells": [
    {
      "cell_type": "markdown",
      "metadata": {
        "id": "view-in-github",
        "colab_type": "text"
      },
      "source": [
        "<a href=\"https://colab.research.google.com/github/Garima-2702/Garima-2702/blob/Basic-of-python/sets_py.ipynb\" target=\"_parent\"><img src=\"https://colab.research.google.com/assets/colab-badge.svg\" alt=\"Open In Colab\"/></a>"
      ]
    },
    {
      "cell_type": "code",
      "execution_count": null,
      "metadata": {
        "colab": {
          "base_uri": "https://localhost:8080/"
        },
        "id": "uMt_goCSvbv3",
        "outputId": "2c2b3837-335b-4292-d790-9c75b86d8850"
      },
      "outputs": [
        {
          "output_type": "stream",
          "name": "stdout",
          "text": [
            "{'garima', 'neha', 'sejal'}\n",
            "<class 'set'>\n",
            "garima\n",
            "neha\n",
            "sejal\n",
            "{'garima', 'sonu', 'neha', 'sejal'}\n",
            "{'garima', 'sonu', 'cherry', 'neha', 'sejal'}\n",
            "{'garima', 'sharma', 'sonu', 'cherry', 'neha', 'jangid', 'sejal'}\n",
            "{'garima', 'sharma', 'sonu', 'cherry', 'neha', 'jangid'}\n",
            "{'garima', 'sharma', 'sonu', 'neha', 'jangid'}\n",
            "set()\n"
          ]
        }
      ],
      "source": [
        "name={\"garima\",\"sejal\",\"neha\"}\n",
        "print(name)\n",
        "print(type(name))\n",
        "for x in name:\n",
        "  print(x)\n",
        "name.add(\"sonu\")\n",
        "print(name)\n",
        "fruit={\"cherry\"}\n",
        "name.update(fruit)\n",
        "print(name)\n",
        "surname=[\"sharma\",\"jangid\"]\n",
        "name.update(surname)\n",
        "print(name)\n",
        "name.remove(\"sejal\")\n",
        "print(name)\n",
        "name.discard(\"cherry\")\n",
        "print(name)\n",
        "name.clear()\n",
        "print(name)"
      ]
    },
    {
      "cell_type": "code",
      "source": [],
      "metadata": {
        "id": "sdgiF-FRBxtq"
      },
      "execution_count": null,
      "outputs": []
    },
    {
      "cell_type": "code",
      "source": [
        "name={\"garima\",\"sejal\",\"neha\"}\n",
        "print(id(name))\n",
        "del name\n",
        "print(id(name))\n"
      ],
      "metadata": {
        "colab": {
          "base_uri": "https://localhost:8080/",
          "height": 227
        },
        "id": "hiXw5Kadz29o",
        "outputId": "1bf37a11-a447-4f9e-94d8-952b0dbf3f76"
      },
      "execution_count": null,
      "outputs": [
        {
          "output_type": "stream",
          "name": "stdout",
          "text": [
            "136322873309920\n"
          ]
        },
        {
          "output_type": "error",
          "ename": "NameError",
          "evalue": "name 'name' is not defined",
          "traceback": [
            "\u001b[0;31m---------------------------------------------------------------------------\u001b[0m",
            "\u001b[0;31mNameError\u001b[0m                                 Traceback (most recent call last)",
            "\u001b[0;32m<ipython-input-16-b327b7dbac81>\u001b[0m in \u001b[0;36m<cell line: 4>\u001b[0;34m()\u001b[0m\n\u001b[1;32m      2\u001b[0m \u001b[0mprint\u001b[0m\u001b[0;34m(\u001b[0m\u001b[0mid\u001b[0m\u001b[0;34m(\u001b[0m\u001b[0mname\u001b[0m\u001b[0;34m)\u001b[0m\u001b[0;34m)\u001b[0m\u001b[0;34m\u001b[0m\u001b[0;34m\u001b[0m\u001b[0m\n\u001b[1;32m      3\u001b[0m \u001b[0;32mdel\u001b[0m \u001b[0mname\u001b[0m\u001b[0;34m\u001b[0m\u001b[0;34m\u001b[0m\u001b[0m\n\u001b[0;32m----> 4\u001b[0;31m \u001b[0mprint\u001b[0m\u001b[0;34m(\u001b[0m\u001b[0mid\u001b[0m\u001b[0;34m(\u001b[0m\u001b[0mname\u001b[0m\u001b[0;34m)\u001b[0m\u001b[0;34m)\u001b[0m\u001b[0;34m\u001b[0m\u001b[0;34m\u001b[0m\u001b[0m\n\u001b[0m",
            "\u001b[0;31mNameError\u001b[0m: name 'name' is not defined"
          ]
        }
      ]
    },
    {
      "cell_type": "code",
      "source": [
        "name={\"garima\",\"sejal\",\"neha\"}\n",
        "surname={\"sharma\",\"rathore\",\"garima\"}\n",
        "name1=name.union(surname)\n",
        "print(name1)\n",
        "name2=name.intersection(surname)\n",
        "print(name2)\n",
        "name3=name.difference(surname)\n",
        "print(name3)"
      ],
      "metadata": {
        "colab": {
          "base_uri": "https://localhost:8080/"
        },
        "id": "0nwaE9UNvzRL",
        "outputId": "139e0dd4-2029-42e8-9aa2-0a9bacb11f93"
      },
      "execution_count": null,
      "outputs": [
        {
          "output_type": "stream",
          "name": "stdout",
          "text": [
            "{'garima', 'sharma', 'neha', 'rathore', 'sejal'}\n",
            "{'garima'}\n",
            "{'neha', 'sejal'}\n"
          ]
        }
      ]
    },
    {
      "cell_type": "code",
      "source": [
        "name={\"garima\",\"sejal\",\"neha\"}\n",
        "surname={\"sharma\",\"rathore\",\"garima\"}\n",
        "name.intersection_update(surname)\n",
        "print(name)"
      ],
      "metadata": {
        "colab": {
          "base_uri": "https://localhost:8080/"
        },
        "id": "4sTy5jCGBzoX",
        "outputId": "9a74ecbc-9c63-4d79-fffb-1b370209dd83"
      },
      "execution_count": 2,
      "outputs": [
        {
          "output_type": "stream",
          "name": "stdout",
          "text": [
            "{'garima'}\n"
          ]
        }
      ]
    },
    {
      "cell_type": "code",
      "source": [
        "name={\"garima\",\"sejal\",\"neha\"}\n",
        "surname={\"sharma\",\"rathore\",\"garima\"}\n",
        "name.symmetric_difference_update(surname)\n",
        "print(name)"
      ],
      "metadata": {
        "colab": {
          "base_uri": "https://localhost:8080/"
        },
        "id": "596VrrNpCS5I",
        "outputId": "3c81b6ab-3152-4ce9-b4f9-507bf4c6c03f"
      },
      "execution_count": 4,
      "outputs": [
        {
          "output_type": "stream",
          "name": "stdout",
          "text": [
            "{'rathore', 'neha', 'sharma', 'sejal'}\n"
          ]
        }
      ]
    }
  ]
}