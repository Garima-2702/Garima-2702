{
  "nbformat": 4,
  "nbformat_minor": 0,
  "metadata": {
    "colab": {
      "provenance": [],
      "authorship_tag": "ABX9TyMkvBAKtenuoLhwu9hx3DE9",
      "include_colab_link": true
    },
    "kernelspec": {
      "name": "python3",
      "display_name": "Python 3"
    },
    "language_info": {
      "name": "python"
    }
  },
  "cells": [
    {
      "cell_type": "markdown",
      "metadata": {
        "id": "view-in-github",
        "colab_type": "text"
      },
      "source": [
        "<a href=\"https://colab.research.google.com/github/Garima-2702/Garima-2702/blob/Basic-of-python/file_py.ipynb\" target=\"_parent\"><img src=\"https://colab.research.google.com/assets/colab-badge.svg\" alt=\"Open In Colab\"/></a>"
      ]
    },
    {
      "cell_type": "code",
      "execution_count": null,
      "metadata": {
        "colab": {
          "base_uri": "https://localhost:8080/"
        },
        "id": "zbbFzCn-fX6D",
        "outputId": "4c3b65af-5e8b-4045-a982-5ab670cb3e74"
      },
      "outputs": [
        {
          "output_type": "stream",
          "name": "stdout",
          "text": [
            "my name is garima\n",
            "\n"
          ]
        }
      ],
      "source": [
        "fl=open(\"garima.txt\",\"r\")\n",
        "print(fl.read())"
      ]
    },
    {
      "cell_type": "code",
      "source": [
        "fl=open(\"garima.txt\",\"r\")\n",
        "print(fl.read())"
      ],
      "metadata": {
        "colab": {
          "base_uri": "https://localhost:8080/"
        },
        "id": "R7K0X8boiRsn",
        "outputId": "54fbd164-970a-4d24-cf36-b177d5e29e15"
      },
      "execution_count": null,
      "outputs": [
        {
          "output_type": "stream",
          "name": "stdout",
          "text": [
            "My name is garima\n",
            "I am bca student\n",
            "I am taking training in python\n"
          ]
        }
      ]
    },
    {
      "cell_type": "code",
      "source": [
        "fl=open(\"garima.txt\",\"r\")\n",
        "for x in fl:\n",
        "\n",
        "  print(x)\n"
      ],
      "metadata": {
        "colab": {
          "base_uri": "https://localhost:8080/"
        },
        "id": "YQHcJx2mjnU_",
        "outputId": "d7e0dbac-1b28-43bc-b6ef-43398db5a166"
      },
      "execution_count": null,
      "outputs": [
        {
          "output_type": "stream",
          "name": "stdout",
          "text": [
            "My name is garima\n",
            "\n",
            "I am bca student\n",
            "\n",
            "I am taking training in python\n"
          ]
        }
      ]
    },
    {
      "cell_type": "code",
      "source": [
        "fl=open(\"garima.txt\",\"a\")\n",
        "fl.write(\"\\n new data added!\")\n",
        "fl.close()\n",
        "fl=open(\"garima.txt\",\"r\")\n",
        "print(fl.read())"
      ],
      "metadata": {
        "colab": {
          "base_uri": "https://localhost:8080/"
        },
        "id": "_OSVYzsJklC3",
        "outputId": "f573e9a6-d7c3-4759-9d1f-5fcaea228362"
      },
      "execution_count": 16,
      "outputs": [
        {
          "output_type": "stream",
          "name": "stdout",
          "text": [
            "My name is garima\n",
            "I am bca student\n",
            "I am taking training in python\n",
            " \n",
            " new data added!\n"
          ]
        }
      ]
    },
    {
      "cell_type": "code",
      "source": [
        "fl=open(\"garima.txt\",\"r\")\n",
        "for x in fl.readlines():\n",
        "  print(x)"
      ],
      "metadata": {
        "colab": {
          "base_uri": "https://localhost:8080/"
        },
        "id": "OAo2MXWBl7O1",
        "outputId": "81fbe7fc-4b58-4bb6-d5d8-648d81200168"
      },
      "execution_count": 17,
      "outputs": [
        {
          "output_type": "stream",
          "name": "stdout",
          "text": [
            "My name is garima\n",
            "\n",
            "I am bca student\n",
            "\n",
            "I am taking training in python\n",
            "\n",
            " \n",
            "\n",
            " new data added!\n"
          ]
        }
      ]
    }
  ]
}