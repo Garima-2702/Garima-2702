{
  "nbformat": 4,
  "nbformat_minor": 0,
  "metadata": {
    "colab": {
      "provenance": [],
      "authorship_tag": "ABX9TyPE4LfBlr4Mn8E8nZUwQ+Ct",
      "include_colab_link": true
    },
    "kernelspec": {
      "name": "python3",
      "display_name": "Python 3"
    },
    "language_info": {
      "name": "python"
    }
  },
  "cells": [
    {
      "cell_type": "markdown",
      "metadata": {
        "id": "view-in-github",
        "colab_type": "text"
      },
      "source": [
        "<a href=\"https://colab.research.google.com/github/Garima-2702/Garima-2702/blob/Basic-of-python/stringlibrary_py.ipynb\" target=\"_parent\"><img src=\"https://colab.research.google.com/assets/colab-badge.svg\" alt=\"Open In Colab\"/></a>"
      ]
    },
    {
      "cell_type": "code",
      "execution_count": 11,
      "metadata": {
        "colab": {
          "base_uri": "https://localhost:8080/"
        },
        "id": "xe61nMvnzOOx",
        "outputId": "a47885a4-d719-4d13-eb44-c06dadaea774"
      },
      "outputs": [
        {
          "output_type": "stream",
          "name": "stdout",
          "text": [
            "6\n"
          ]
        }
      ],
      "source": [
        "str='my name is garima and my father name is vijay sharma'\n",
        "a=str.count('m')\n",
        "print(a)"
      ]
    },
    {
      "cell_type": "code",
      "source": [
        "str='my name is garima and my father name is vijay sharma'\n",
        "a=str.count('my')\n",
        "print(a)"
      ],
      "metadata": {
        "colab": {
          "base_uri": "https://localhost:8080/"
        },
        "id": "vAeMkrBV7osx",
        "outputId": "8e1885fb-884f-4384-df1d-46ecfbaab86b"
      },
      "execution_count": 12,
      "outputs": [
        {
          "output_type": "stream",
          "name": "stdout",
          "text": [
            "2\n"
          ]
        }
      ]
    },
    {
      "cell_type": "code",
      "source": [
        "str='my name is garima and my father name is vijay sharma'\n",
        "a=str.find('my')\n",
        "print(a)\n",
        "b=str.find('name')\n",
        "print(b)\n",
        "c=str.find('y')\n",
        "print(c)\n",
        "d=str.find('')\n",
        "print(d)"
      ],
      "metadata": {
        "colab": {
          "base_uri": "https://localhost:8080/"
        },
        "id": "7AKTnUft7wFY",
        "outputId": "6555c224-04e0-4a10-f404-9e988ee39a9c"
      },
      "execution_count": 18,
      "outputs": [
        {
          "output_type": "stream",
          "name": "stdout",
          "text": [
            "0\n",
            "3\n",
            "1\n",
            "0\n"
          ]
        }
      ]
    },
    {
      "cell_type": "code",
      "source": [
        "str='my name is {0} . My sister name is {1}. My friend name is {2}'\n",
        "\n",
        "a=str.format('garima','sejal','sonu')\n",
        "print(a)"
      ],
      "metadata": {
        "colab": {
          "base_uri": "https://localhost:8080/"
        },
        "id": "BFy04W9L9OnA",
        "outputId": "d60e4b3d-80b8-4d15-b35a-9038110d7adb"
      },
      "execution_count": 28,
      "outputs": [
        {
          "output_type": "stream",
          "name": "stdout",
          "text": [
            "my name is garima . My sister name is sejal. My friend name is sonu\n"
          ]
        }
      ]
    },
    {
      "cell_type": "code",
      "source": [
        "str='my name is garima'\n",
        "print(str)\n",
        "a=str.replace(\"garima\",\"sharma\")\n",
        "print(a)"
      ],
      "metadata": {
        "colab": {
          "base_uri": "https://localhost:8080/"
        },
        "id": "hhdGhI8U5i_O",
        "outputId": "184e94fd-def0-4c03-8dd0-f84144777c65"
      },
      "execution_count": 9,
      "outputs": [
        {
          "output_type": "stream",
          "name": "stdout",
          "text": [
            "my name is garima\n",
            "my name is sharma\n"
          ]
        }
      ]
    },
    {
      "cell_type": "code",
      "source": [
        "str='mynameisgarima'\n",
        "print(str[4:7])"
      ],
      "metadata": {
        "colab": {
          "base_uri": "https://localhost:8080/"
        },
        "id": "DmhDQ_vw27xc",
        "outputId": "22a7b9ad-526d-46a6-b73c-1934ec419877"
      },
      "execution_count": 2,
      "outputs": [
        {
          "output_type": "stream",
          "name": "stdout",
          "text": [
            "mei\n"
          ]
        }
      ]
    },
    {
      "cell_type": "code",
      "source": [
        "str='my name is garima'\n",
        "print(str.upper())\n"
      ],
      "metadata": {
        "colab": {
          "base_uri": "https://localhost:8080/"
        },
        "id": "3XKak92w3J8B",
        "outputId": "2258e53d-9ee7-4352-a55e-4b8139aed490"
      },
      "execution_count": 3,
      "outputs": [
        {
          "output_type": "stream",
          "name": "stdout",
          "text": [
            "MY NAME IS GARIMA\n"
          ]
        }
      ]
    },
    {
      "cell_type": "code",
      "source": [
        "str='MY NAME IS GARIMA'\n",
        "print(str.lower())"
      ],
      "metadata": {
        "colab": {
          "base_uri": "https://localhost:8080/"
        },
        "id": "xQU0Rb133qOf",
        "outputId": "3c644bb2-6427-4eaf-c7a2-0508e5fb4845"
      },
      "execution_count": 4,
      "outputs": [
        {
          "output_type": "stream",
          "name": "stdout",
          "text": [
            "my name is garima\n"
          ]
        }
      ]
    },
    {
      "cell_type": "code",
      "source": [
        "str=' My name is Garima '\n",
        "length=len(str)\n",
        "print(length)\n",
        "print(str.strip())\n",
        "size=len(str.strip())\n",
        "print(size)"
      ],
      "metadata": {
        "colab": {
          "base_uri": "https://localhost:8080/"
        },
        "id": "1ifHWtMa31Gw",
        "outputId": "e4e245e8-46d1-498f-b00a-feb9ddba3a10"
      },
      "execution_count": 5,
      "outputs": [
        {
          "output_type": "stream",
          "name": "stdout",
          "text": [
            "19\n",
            "My name is Garima\n",
            "17\n"
          ]
        }
      ]
    },
    {
      "cell_type": "code",
      "source": [
        "a='my name is garima'\n",
        "x=a.split()\n",
        "count=0\n",
        "for b in x:\n",
        "  count+=1\n",
        "print(count)"
      ],
      "metadata": {
        "colab": {
          "base_uri": "https://localhost:8080/"
        },
        "id": "Y0m_FdkwAH9a",
        "outputId": "1df0bf1a-62ae-4ff8-838a-a8c3289b1a96"
      },
      "execution_count": 29,
      "outputs": [
        {
          "output_type": "stream",
          "name": "stdout",
          "text": [
            "4\n"
          ]
        }
      ]
    }
  ]
}