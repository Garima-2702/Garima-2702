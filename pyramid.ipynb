{
  "nbformat": 4,
  "nbformat_minor": 0,
  "metadata": {
    "colab": {
      "provenance": [],
      "authorship_tag": "ABX9TyOxlyw6qUBMwVJWwWIwayhC",
      "include_colab_link": true
    },
    "kernelspec": {
      "name": "python3",
      "display_name": "Python 3"
    },
    "language_info": {
      "name": "python"
    }
  },
  "cells": [
    {
      "cell_type": "markdown",
      "metadata": {
        "id": "view-in-github",
        "colab_type": "text"
      },
      "source": [
        "<a href=\"https://colab.research.google.com/github/Garima-2702/Garima-2702/blob/Basic-of-python/pyramid.ipynb\" target=\"_parent\"><img src=\"https://colab.research.google.com/assets/colab-badge.svg\" alt=\"Open In Colab\"/></a>"
      ]
    },
    {
      "cell_type": "code",
      "execution_count": 4,
      "metadata": {
        "colab": {
          "base_uri": "https://localhost:8080/"
        },
        "id": "rOj1h3GDZIXg",
        "outputId": "c81fa0fb-3638-429a-b8f6-7daab4b11ad8"
      },
      "outputs": [
        {
          "output_type": "stream",
          "name": "stdout",
          "text": [
            "enter no of rows5\n",
            "1\n",
            "\n",
            "12\n",
            "\n",
            "123\n",
            "\n",
            "1234\n",
            "\n",
            "12345\n",
            "\n"
          ]
        }
      ],
      "source": [
        "rows=int(input('enter no of rows'))\n",
        "for x in range(1,rows+1):\n",
        "  for y in range(1,x+1):\n",
        "    print(y,end=\"\")\n",
        "  print(\"\\n\")\n",
        ""
      ]
    },
    {
      "cell_type": "code",
      "source": [
        "rows=int(input('enter no of rows'))\n",
        "\n",
        "for x in range(1,rows+1):\n",
        "  for y in range(x,(2*rows)-1):\n",
        "    print(end=\"\")\n",
        "  for z in range(1,x+1):\n",
        "    print(z,end=\"\")\n",
        "  print(\"\\n\")"
      ],
      "metadata": {
        "colab": {
          "base_uri": "https://localhost:8080/"
        },
        "id": "38MXvQnHadVg",
        "outputId": "d0bb1955-1721-41b9-8d76-7f7d5724be62"
      },
      "execution_count": 17,
      "outputs": [
        {
          "output_type": "stream",
          "name": "stdout",
          "text": [
            "enter no of rows5\n",
            "\n",
            "\n",
            "\n",
            "\n",
            "\n",
            "\n",
            "\n",
            "\n",
            "\n",
            "\n"
          ]
        }
      ]
    }
  ]
}