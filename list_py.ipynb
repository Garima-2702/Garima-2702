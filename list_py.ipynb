{
  "nbformat": 4,
  "nbformat_minor": 0,
  "metadata": {
    "colab": {
      "provenance": [],
      "authorship_tag": "ABX9TyPE06StJw+hg8d8Ocevb42R",
      "include_colab_link": true
    },
    "kernelspec": {
      "name": "python3",
      "display_name": "Python 3"
    },
    "language_info": {
      "name": "python"
    }
  },
  "cells": [
    {
      "cell_type": "markdown",
      "metadata": {
        "id": "view-in-github",
        "colab_type": "text"
      },
      "source": [
        "<a href=\"https://colab.research.google.com/github/Garima-2702/Garima-2702/blob/Basic-of-python/list_py.ipynb\" target=\"_parent\"><img src=\"https://colab.research.google.com/assets/colab-badge.svg\" alt=\"Open In Colab\"/></a>"
      ]
    },
    {
      "cell_type": "code",
      "execution_count": 2,
      "metadata": {
        "colab": {
          "base_uri": "https://localhost:8080/"
        },
        "id": "i5ZqV5EGjtGm",
        "outputId": "04c758aa-7a4c-428f-c369-a0d0ab27ea0f"
      },
      "outputs": [
        {
          "output_type": "stream",
          "name": "stdout",
          "text": [
            "enter number of elements : 4\n",
            "4\n",
            "6\n",
            "8\n",
            "9\n",
            "27\n"
          ]
        }
      ],
      "source": [
        "lst=[]\n",
        "n=int(input(\"enter number of elements : \"))\n",
        "sum=0\n",
        "for i in range(0,n):\n",
        "  ele = int(input())\n",
        "  sum+=ele\n",
        "  lst.append(ele)\n",
        "print(sum)"
      ]
    },
    {
      "cell_type": "code",
      "source": [
        "lst=[]\n",
        "n=int(input(\"enter number of elements : \"))\n",
        "ele1=int(input())\n",
        "max=ele1\n",
        "for i in range(1,n):\n",
        "  ele = int(input())\n",
        "  if ele>max:\n",
        "    max=ele\n",
        "  lst.append(ele)\n",
        "print(max)"
      ],
      "metadata": {
        "colab": {
          "base_uri": "https://localhost:8080/"
        },
        "id": "3HPJG1i4kVcF",
        "outputId": "9f5c80eb-1364-4b93-805f-92fa3b9ad409"
      },
      "execution_count": 3,
      "outputs": [
        {
          "output_type": "stream",
          "name": "stdout",
          "text": [
            "enter number of elements : 4\n",
            "34\n",
            "56\n",
            "45\n",
            "65\n",
            "65\n"
          ]
        }
      ]
    },
    {
      "cell_type": "code",
      "source": [
        "lst=[]\n",
        "\n",
        "n=int(input(\"enter number of elements : \"))\n",
        "\n",
        "for i in range(n):\n",
        "  name=input()\n",
        "  lst.append(name)\n",
        "print(lst)\n",
        "\n",
        "for x in lst:\n",
        "  length=len(x)\n",
        "  print(length)\n",
        "  if length>2:\n",
        "    if x[0]==x[length-1]:\n",
        "      print(x)\n",
        ""
      ],
      "metadata": {
        "colab": {
          "base_uri": "https://localhost:8080/"
        },
        "id": "Su1jS7Enk0m0",
        "outputId": "a07c5362-124e-4c2b-82ca-10abe8d93dee"
      },
      "execution_count": 8,
      "outputs": [
        {
          "output_type": "stream",
          "name": "stdout",
          "text": [
            "enter number of elements : 5\n",
            "garima\n",
            "naman\n",
            "kanak\n",
            "zoz\n",
            "aa\n",
            "['garima', 'naman', 'kanak', 'zoz', 'aa']\n",
            "6\n",
            "5\n",
            "naman\n",
            "5\n",
            "kanak\n",
            "3\n",
            "zoz\n",
            "2\n"
          ]
        }
      ]
    }
  ]
}