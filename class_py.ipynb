{
  "nbformat": 4,
  "nbformat_minor": 0,
  "metadata": {
    "colab": {
      "provenance": [],
      "authorship_tag": "ABX9TyOTdr1CdYRTvybdizad0wgC",
      "include_colab_link": true
    },
    "kernelspec": {
      "name": "python3",
      "display_name": "Python 3"
    },
    "language_info": {
      "name": "python"
    }
  },
  "cells": [
    {
      "cell_type": "markdown",
      "metadata": {
        "id": "view-in-github",
        "colab_type": "text"
      },
      "source": [
        "<a href=\"https://colab.research.google.com/github/Garima-2702/Garima-2702/blob/Basic-of-python/class_py.ipynb\" target=\"_parent\"><img src=\"https://colab.research.google.com/assets/colab-badge.svg\" alt=\"Open In Colab\"/></a>"
      ]
    },
    {
      "cell_type": "code",
      "execution_count": 7,
      "metadata": {
        "colab": {
          "base_uri": "https://localhost:8080/"
        },
        "id": "360_Dio7813U",
        "outputId": "98028270-1aac-4475-eddb-3b36ed29ad57"
      },
      "outputs": [
        {
          "output_type": "stream",
          "name": "stdout",
          "text": [
            "dog voice is called bark\n",
            "cow voice is called moo\n"
          ]
        }
      ],
      "source": [
        "class animal:\n",
        "\n",
        "  def __init__(self,dog,cow):\n",
        "    self.dog=dog\n",
        "    self.cow=cow\n",
        "  def name(self):\n",
        "    print(\"dog voice is called \"+self.dog)\n",
        "    print(\"cow voice is called \"+self.cow)\n",
        "o = animal(\"bark\" , \"moo\")\n",
        "o.name()"
      ]
    },
    {
      "cell_type": "code",
      "source": [
        "class animal:\n",
        "  def __init__(self,d):\n",
        "    self.dg=d\n",
        "\n",
        "class dog(animal):\n",
        "  def name(self):\n",
        "    print(\"dog voice is called \"+self.dg)\n",
        "class cow(animal):\n",
        "  def name1(self):\n",
        "    print(\"cow voice is called \"+self.dg)\n",
        "o1 = dog(\"bark\")\n",
        "o2 = cow(\"moo\")\n",
        "o1.name()\n",
        "o2.name1()\n"
      ],
      "metadata": {
        "colab": {
          "base_uri": "https://localhost:8080/"
        },
        "id": "qteOVo-_AJwG",
        "outputId": "d42fec53-84fc-4f7e-f337-be1e025acc7c"
      },
      "execution_count": 12,
      "outputs": [
        {
          "output_type": "stream",
          "name": "stdout",
          "text": [
            "dog voice is called bark\n",
            "cow voice is called moo\n"
          ]
        }
      ]
    }
  ]
}