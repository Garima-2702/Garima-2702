{
  "nbformat": 4,
  "nbformat_minor": 0,
  "metadata": {
    "colab": {
      "provenance": [],
      "authorship_tag": "ABX9TyML3mVdrUuCONOgQSInB7u+",
      "include_colab_link": true
    },
    "kernelspec": {
      "name": "python3",
      "display_name": "Python 3"
    },
    "language_info": {
      "name": "python"
    }
  },
  "cells": [
    {
      "cell_type": "markdown",
      "metadata": {
        "id": "view-in-github",
        "colab_type": "text"
      },
      "source": [
        "<a href=\"https://colab.research.google.com/github/Garima-2702/Garima-2702/blob/Basic-of-python/tuple_py.ipynb\" target=\"_parent\"><img src=\"https://colab.research.google.com/assets/colab-badge.svg\" alt=\"Open In Colab\"/></a>"
      ]
    },
    {
      "cell_type": "code",
      "execution_count": null,
      "metadata": {
        "colab": {
          "base_uri": "https://localhost:8080/"
        },
        "id": "wRkaNUK7nJAC",
        "outputId": "82c1c08e-88eb-40da-f702-16a7d5c2b336"
      },
      "outputs": [
        {
          "output_type": "stream",
          "name": "stdout",
          "text": [
            "('garima', 'sejal', 'sonu')\n"
          ]
        }
      ],
      "source": [
        "name=[\"garima\",\"sejal\",\"sonu\"]\n",
        "name1=tuple(name)\n",
        "print(name1)"
      ]
    },
    {
      "cell_type": "code",
      "source": [
        "name=(\"garima\",\"sejal\",\"sonu\")\n",
        "print(name[1])\n",
        "name1=list(name)\n",
        "print(name1)\n",
        "name1.append(\"neha\")\n",
        "name=tuple(name1)\n",
        "print(name)\n",
        "name1=list(name)\n",
        "name1.remove(\"sejal\")\n",
        "name=tuple(name1)\n",
        "print(name)\n",
        "\n",
        "\n"
      ],
      "metadata": {
        "colab": {
          "base_uri": "https://localhost:8080/"
        },
        "id": "Y45fMyKXn2mC",
        "outputId": "e01aeddf-4657-4a8e-9f3b-36afe5f810bd"
      },
      "execution_count": null,
      "outputs": [
        {
          "output_type": "stream",
          "name": "stdout",
          "text": [
            "sejal\n",
            "['garima', 'sejal', 'sonu']\n",
            "('garima', 'sejal', 'sonu', 'neha')\n",
            "('garima', 'sonu', 'neha')\n"
          ]
        }
      ]
    },
    {
      "cell_type": "code",
      "source": [
        "fruits=(\"apple\",\"mango\",\"papaya\",\"mango\")\n",
        "res=[]\n",
        "length=len(fruits)\n",
        "print(length)\n",
        "for j in range(len(fruits)):\n",
        "  my_fruits=fruits[j]\n",
        "  count=0\n",
        "  for i in range(len(fruits)):\n",
        "    if i==j:\n",
        "      continue\n",
        "    if fruits[i]==fruits[j]:\n",
        "      count+=1\n",
        "  if count>0:\n",
        "    if my_fruits not in res:\n",
        "      res.append(my_fruits)\n",
        "    print(res)\n",
        "\n",
        "\n",
        "\n"
      ],
      "metadata": {
        "colab": {
          "base_uri": "https://localhost:8080/"
        },
        "id": "Y_R25Qe9qqoO",
        "outputId": "e8eb9e10-1b47-42c7-b737-3cbde83e5cf7"
      },
      "execution_count": null,
      "outputs": [
        {
          "output_type": "stream",
          "name": "stdout",
          "text": [
            "4\n",
            "['mango']\n",
            "['mango']\n"
          ]
        }
      ]
    }
  ]
}