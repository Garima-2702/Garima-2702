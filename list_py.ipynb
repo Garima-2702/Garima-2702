{
  "nbformat": 4,
  "nbformat_minor": 0,
  "metadata": {
    "colab": {
      "provenance": [],
      "authorship_tag": "ABX9TyM3b0DZ6wIObXLfgn8u7PVo",
      "include_colab_link": true
    },
    "kernelspec": {
      "name": "python3",
      "display_name": "Python 3"
    },
    "language_info": {
      "name": "python"
    }
  },
  "cells": [
    {
      "cell_type": "markdown",
      "metadata": {
        "id": "view-in-github",
        "colab_type": "text"
      },
      "source": [
        "<a href=\"https://colab.research.google.com/github/Garima-2702/Garima-2702/blob/Basic-of-python/list_py.ipynb\" target=\"_parent\"><img src=\"https://colab.research.google.com/assets/colab-badge.svg\" alt=\"Open In Colab\"/></a>"
      ]
    },
    {
      "cell_type": "code",
      "execution_count": 2,
      "metadata": {
        "colab": {
          "base_uri": "https://localhost:8080/"
        },
        "id": "i5ZqV5EGjtGm",
        "outputId": "04c758aa-7a4c-428f-c369-a0d0ab27ea0f"
      },
      "outputs": [
        {
          "output_type": "stream",
          "name": "stdout",
          "text": [
            "enter number of elements : 4\n",
            "4\n",
            "6\n",
            "8\n",
            "9\n",
            "27\n"
          ]
        }
      ],
      "source": [
        "lst=[]\n",
        "n=int(input(\"enter number of elements : \"))\n",
        "sum=0\n",
        "for i in range(0,n):\n",
        "  ele = int(input())\n",
        "  sum+=ele\n",
        "  lst.append(ele)\n",
        "print(sum)"
      ]
    },
    {
      "cell_type": "code",
      "source": [
        "lst=[]\n",
        "n=int(input(\"enter number of elements : \"))\n",
        "ele1=int(input())\n",
        "max=ele1\n",
        "for i in range(1,n):\n",
        "  ele = int(input())\n",
        "  if ele>max:\n",
        "    max=ele\n",
        "  lst.append(ele)\n",
        "print(max)"
      ],
      "metadata": {
        "colab": {
          "base_uri": "https://localhost:8080/"
        },
        "id": "3HPJG1i4kVcF",
        "outputId": "9f5c80eb-1364-4b93-805f-92fa3b9ad409"
      },
      "execution_count": 3,
      "outputs": [
        {
          "output_type": "stream",
          "name": "stdout",
          "text": [
            "enter number of elements : 4\n",
            "34\n",
            "56\n",
            "45\n",
            "65\n",
            "65\n"
          ]
        }
      ]
    },
    {
      "cell_type": "code",
      "source": [
        "lst=[]\n",
        "\n",
        "n=int(input(\"enter number of elements : \"))\n",
        "\n",
        "for i in range(n):\n",
        "  name=input()\n",
        "  lst.append(name)\n",
        "print(lst)\n",
        "\n",
        "for x in lst:\n",
        "  length=len(x)\n",
        "  print(length)\n",
        "  if length>2:\n",
        "    if x[0]==x[length-1]:\n",
        "      print(x)\n",
        ""
      ],
      "metadata": {
        "colab": {
          "base_uri": "https://localhost:8080/"
        },
        "id": "Su1jS7Enk0m0",
        "outputId": "a07c5362-124e-4c2b-82ca-10abe8d93dee"
      },
      "execution_count": 8,
      "outputs": [
        {
          "output_type": "stream",
          "name": "stdout",
          "text": [
            "enter number of elements : 5\n",
            "garima\n",
            "naman\n",
            "kanak\n",
            "zoz\n",
            "aa\n",
            "['garima', 'naman', 'kanak', 'zoz', 'aa']\n",
            "6\n",
            "5\n",
            "naman\n",
            "5\n",
            "kanak\n",
            "3\n",
            "zoz\n",
            "2\n"
          ]
        }
      ]
    },
    {
      "cell_type": "code",
      "source": [
        "user_list = []\n",
        "\n",
        "def add_user():\n",
        "\n",
        "    name = input(\"Enter your name: \")\n",
        "    age = int(input(\"Enter your age: \"))\n",
        "    city = input(\"Enter your city: \")\n",
        "\n",
        "    user_list.append({\"name\": name, \"age\": age, \"city\": city})\n",
        "    print(\"User added successfully!\")\n",
        "\n",
        "def display_users():''\n",
        "\n",
        "for i, user in enumerate(user_list, 1):\n",
        "        print(f\"\\nUser {i} information:\")\n",
        "        for key, value in user.items():\n",
        "            print(f\"{key}: {value}\")\n",
        "\n",
        "def delete_user():\n",
        "\n",
        "    name = input(\"Enter the name of the user to delete: \")\n",
        "\n",
        "\n",
        "    index = None\n",
        "    for i, user in enumerate(user_list):\n",
        "        if user[\"name\"] == name:\n",
        "            index = i\n",
        "            break\n",
        "\n",
        "\n",
        "    if index is not None:\n",
        "        del user_list[index]\n",
        "        print(\"User deleted successfully!\")\n",
        "    else:\n",
        "        print(\"User not found!\")\n",
        "\n",
        "def update_user():\n",
        "\n",
        "    name = input(\"Enter the name of the user to update: \")\n",
        "\n",
        "\n",
        "    index = None\n",
        "    for i, user in enumerate(user_list):\n",
        "        if user[\"name\"] == name:\n",
        "            index = i\n",
        "            break\n",
        "\n",
        "\n",
        "    if index is not None:\n",
        "        user_list[index][\"age\"] = int(input(\"Enter the new age: \"))\n",
        "        user_list[index][\"city\"] = input(\"Enter the new city: \")\n",
        "        print(\"User updated successfully!\")\n",
        "    else:\n",
        "        print(\"User not found!\")\n",
        "\n",
        "\n",
        "while True:\n",
        "    print(\"\\n1. Add user\")\n",
        "    print(\"2. Display users\")\n",
        "    print(\"3. Delete user\")\n",
        "    print(\"4. Update user\")\n",
        "    print(\"5. Exit\")\n",
        "\n",
        "\n",
        "    option = int(input(\"Enter your choice: \"))\n",
        "    if option == 1:\n",
        "        add_user()\n",
        "    elif option == 2:\n",
        "        display_users()\n",
        "    elif option == 3:\n",
        "        delete_user()\n",
        "    elif option == 4:\n",
        "        update_user()\n",
        "    elif option == 5:\n",
        "        break\n",
        "    else:\n",
        "        print(\"Invalid choice! Please try again.\")\n",
        "\n"
      ],
      "metadata": {
        "colab": {
          "base_uri": "https://localhost:8080/"
        },
        "id": "GoxzwS2nvmwv",
        "outputId": "39c4c3e2-e714-401b-88fe-e87f1eb30fc8"
      },
      "execution_count": null,
      "outputs": [
        {
          "output_type": "stream",
          "name": "stdout",
          "text": [
            "\n",
            "1. Add user\n",
            "2. Display users\n",
            "3. Delete user\n",
            "4. Update user\n",
            "5. Exit\n",
            "Enter your choice: 1\n",
            "Enter your name: garima\n",
            "Enter your age: 20\n",
            "Enter your city: jaipur\n",
            "User added successfully!\n",
            "\n",
            "1. Add user\n",
            "2. Display users\n",
            "3. Delete user\n",
            "4. Update user\n",
            "5. Exit\n",
            "Enter your choice: 2\n",
            "\n",
            "1. Add user\n",
            "2. Display users\n",
            "3. Delete user\n",
            "4. Update user\n",
            "5. Exit\n",
            "Enter your choice: 2\n",
            "\n",
            "1. Add user\n",
            "2. Display users\n",
            "3. Delete user\n",
            "4. Update user\n",
            "5. Exit\n"
          ]
        }
      ]
    }
  ]
}